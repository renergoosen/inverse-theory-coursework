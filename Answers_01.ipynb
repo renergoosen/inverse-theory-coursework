{
 "cells": [
  {
   "cell_type": "code",
   "execution_count": 80,
   "metadata": {},
   "outputs": [],
   "source": [
    "%matplotlib inline\n",
    "import matplotlib.pyplot as plt\n",
    "import numpy as np"
   ]
  },
  {
   "cell_type": "markdown",
   "metadata": {},
   "source": [
    "## SOEE3250/SOEE5675M/SOEE5116\t\t\t\t\t2024/25\n",
    "\n",
    "Inverse Theory\n",
    "\n",
    "# Practical 1: Inversion by trial and error\n",
    "\n",
    "In this practical you will learn how to set up an inverse problem, and use Python to ‘solve’ the inverse problem by running the associated forward problem multiple times. \n",
    " \n",
    "## Background\n",
    "You are tasked with monitoring surface deformation at a potential sinkhole.  You set up a benchmark at a point ($P_0$) in the centre of the sinkhole and using a laser range finder, you measure the distance to $P_0$ from 4 points $P_1$ to $P_4$. Points $P_1$ to $P_4$ should be considered known and are not part of the data vector. You would like to know the 3D position of $P_0$: this is an inverse problem. Your measurements are not your parameters of interest, but are related to them. The  positions of $P_1$-$P_4$ and the range to $P_0$ are \n",
    "\n",
    "| Point   |  X(m)  |   Y(m)  |  Z(m) | Range(m) |\n",
    "| :------ |:------:|:------:|:------:|---------:|\n",
    "|$P_1$  |110 |-65   |20  | 370.2 |\n",
    "|$P_2$  |172  |423   |25  |392.8|\n",
    "|$P_3$|826 |-143   |40  |482.4\n",
    "|$P_4$|698 |354   |35  |360.8|\n",
    "\n"
   ]
  },
  {
   "cell_type": "markdown",
   "metadata": {},
   "source": [
    "##### Q1) Write down the vector $m$ of model parameters of interest (model parameters)?"
   ]
  },
  {
   "cell_type": "markdown",
   "metadata": {},
   "source": [
    "x,y,z of P0"
   ]
  },
  {
   "cell_type": "markdown",
   "metadata": {},
   "source": [
    "##### Q2) Define the data $d$ vector (i.e. the measurements) in Python by amending the code below"
   ]
  },
  {
   "cell_type": "code",
   "execution_count": null,
   "metadata": {},
   "outputs": [],
   "source": [
    "d = np.array([370.2,392.8,482.4,360.8])"
   ]
  },
  {
   "cell_type": "markdown",
   "metadata": {},
   "source": [
    "##### Q3) We now need to write down the forward problem. \n",
    "Recall that the distance in 3D between two points $(x_1, y_1, z_1)$ and $(x_2, y_2, z_2)$ is\n",
    "$\\sqrt{(x_1-x_2)^2+(y_1-y_2)^2+(z_1-z_2)^2}$. \n",
    "\n",
    "Write down the equation that relates the 3 coordinates of the unknown point ($P_0$) to the range from point $P_1$. Also, by amending the equation, write down formulae for the other points, $P_2$, $P_3$ and $P_4$. "
   ]
  },
  {
   "cell_type": "raw",
   "metadata": {},
   "source": [
    "range1 = sqrt( (x-x1)^2 + (y-y1)^2 + (z-z1)^2)\n",
    "range2 = sqrt( (x-x2)^2 + (y-y2)^2 + (z-z2)^2)\n",
    "range3 = sqrt( (x-x3)^2 + (y-y3)^2 + (z-z3)^2)\n",
    "range4 = sqrt( (x-x4)^2 + (y-y4)^2 + (z-z4)^2)"
   ]
  },
  {
   "cell_type": "markdown",
   "metadata": {},
   "source": [
    "##### Q4) Look at the model and data vectors.\n",
    "Are they the same size?\n",
    "Is this a linear or non-linear problem (i.e. can you reformulate it in the form $d=Gm$, where $d$ is the vector of data and $m$ is the vector of the model parameters)?"
   ]
  },
  {
   "cell_type": "markdown",
   "metadata": {},
   "source": [
    "Data vector of length 4, the model is of length 3: they are not the same size!\n",
    "Because of the squares and sqrt, the model is nonlinear."
   ]
  },
  {
   "cell_type": "markdown",
   "metadata": {},
   "source": [
    "Here is the outline of a function that takes a column vector, $m$, as input and outputs a column vector of ranges ($d_{hat}$) that would be expected at points $P_1$ to $P_4$. The function is not finished - by adding more lines complete the function."
   ]
  },
  {
   "cell_type": "code",
   "execution_count": 95,
   "metadata": {},
   "outputs": [],
   "source": [
    "import numpy as np\n",
    "def compute_ranges(m):\n",
    "    \"\"\"Computes the ranges from the points P1, P2, P3 and P4.\n",
    "    Returns a vector with 4 elements\"\"\"\n",
    "    x1,y1,z1 = 110, -65, 20\n",
    "    x2,y2,z2 = 172,423,25\n",
    "    x3,y3,z3 = 826,-143,40\n",
    "    x4,y4,z4 = 698,354,35\n",
    "    range1 = np.sqrt((x1-m[0])**2+(y1-m[1])**2+(z1-m[2])**2 )\n",
    "    range2 = np.sqrt((x2-m[0])**2+(y2-m[1])**2+(z2-m[2])**2 )\n",
    "    range3 = np.sqrt((x3-m[0])**2+(y3-m[1])**2+(z3-m[2])**2 )\n",
    "    range4 = np.sqrt((x4-m[0])**2+(y4-m[1])**2+(z4-m[2])**2 )\n",
    "    # Amend the function to return the ranges to points 1-4.\n",
    "    return([range1, range2, range3, range4])"
   ]
  },
  {
   "cell_type": "markdown",
   "metadata": {},
   "source": [
    "Here's an example of the function running, calculating the distance between the point [1,2,3] and the points $P_1$-$P_4$."
   ]
  },
  {
   "cell_type": "code",
   "execution_count": 96,
   "metadata": {},
   "outputs": [
    {
     "data": {
      "text/plain": [
       "[129.06974858579372, 454.93516021516734, 838.4622829919066, 781.4966410676376]"
      ]
     },
     "execution_count": 96,
     "metadata": {},
     "output_type": "execute_result"
    }
   ],
   "source": [
    "compute_ranges([1,2,3])"
   ]
  },
  {
   "cell_type": "markdown",
   "metadata": {},
   "source": [
    "##### Q5) Now we are in a position to trial some reasonable values for our model vector m. To get a rough idea of where $P_0$ is located, amend the Python code below to plot the $(x,y)$ positions of $P_1$ to $P_4$."
   ]
  },
  {
   "cell_type": "code",
   "execution_count": 112,
   "metadata": {},
   "outputs": [
    {
     "data": {
      "image/png": "[encoded data removed]",
      "text/plain": [
       "<Figure size 432x288 with 1 Axes>"
      ]
     },
     "metadata": {
      "needs_background": "light"
     },
     "output_type": "display_data"
    }
   ],
   "source": [
    "plt.figure()\n",
    "plt.plot((110, 172,828,698), (-65, 423,-143,354), 'o',color='red')\n",
    "plt.ylabel('$y$ coordinate')\n",
    "plt.xlabel('$x$ coordinate');\n",
    "#plt.savefig('Practical1_datapoints.pdf')\n"
   ]
  },
  {
   "cell_type": "markdown",
   "metadata": {},
   "source": [
    "##### Q6) Now guess where $P_0$ is located (you will also need to guess the $z$-coordinate) as m_trial and calculate the vector of ranges from the forward model, d_hat."
   ]
  },
  {
   "cell_type": "code",
   "execution_count": 114,
   "metadata": {},
   "outputs": [
    {
     "name": "stdout",
     "output_type": "stream",
     "text": [
      "[326.11347718240654, 257.12448347055556, 628.1321517005797, 426.8723462582227]\n"
     ]
    }
   ],
   "source": [
    "m_trial = [300, 200,25]\n",
    "d_hat = compute_ranges(m_trial)\n",
    "print( d_hat )"
   ]
  },
  {
   "cell_type": "markdown",
   "metadata": {},
   "source": [
    "##### Q7) Your answer above will not likely agree with the data vector. Subtract the result above d_hat from d.  These values are known as residuals. Calculate the sum of the residuals squared. This is known as the residual sum of squares (RSS) and is a measure of how well your model parameters fit the data (lower is better)."
   ]
  },
  {
   "cell_type": "code",
   "execution_count": 115,
   "metadata": {},
   "outputs": [
    {
     "name": "stdout",
     "output_type": "stream",
     "text": [
      "45954.882259025\n"
     ]
    }
   ],
   "source": [
    "# This computes the squares of the elementwise difference, then adds up the values:\n",
    "RSS = np.sum(  (d-d_hat)**2 )\n",
    "print(RSS)"
   ]
  },
  {
   "cell_type": "markdown",
   "metadata": {},
   "source": [
    "##### Q8) Adjust your guess for the coordinates of $P_0$, then recalculate the RSS. Has the RSS increased or decreased? Keep trying new guesses and see how low you can make the RSS. "
   ]
  },
  {
   "cell_type": "code",
   "execution_count": 109,
   "metadata": {},
   "outputs": [
    {
     "name": "stdout",
     "output_type": "stream",
     "text": [
      "112747.57070771181\n"
     ]
    }
   ],
   "source": [
    "m_trial = [200, 100,35]\n",
    "d_hat = compute_ranges(m_trial)\n",
    "RSS = np.sum((d - d_hat)**2)\n",
    "print(RSS)"
   ]
  },
  {
   "cell_type": "markdown",
   "metadata": {},
   "source": [
    "##### Q9) Now we will try to find a low-RSS model using a randomised approach. The Python code below will generate 10000 models. For each, calculate the RSS and find the model with the minimum RSS. Plot this point, an approximation to $P_0$, along with $P_1$ - $P_4$ (to make the plot, use your answer to Q5).\n"
   ]
  },
  {
   "cell_type": "code",
   "execution_count": 111,
   "metadata": {},
   "outputs": [
    {
     "data": {
      "text/plain": [
       "[<matplotlib.lines.Line2D at 0x11e161668>]"
      ]
     },
     "execution_count": 111,
     "metadata": {},
     "output_type": "execute_result"
    },
    {
     "data": {
      "image/png": "[encoded data removed]",
      "text/plain": [
       "<Figure size 432x288 with 1 Axes>"
      ]
     },
     "metadata": {
      "needs_background": "light"
     },
     "output_type": "display_data"
    }
   ],
   "source": [
    "import random\n",
    "import numpy as np\n",
    "N = 10000\n",
    "random.seed(1) #seed the random number generator\n",
    "models = np.zeros((3,N))\n",
    "RSS = np.zeros(N)\n",
    "for i in range(N):\n",
    "    models[0,i] = random.uniform(0,1000)\n",
    "    models[1,i] = random.uniform(-200,400)\n",
    "    models[2,i] = random.uniform(0,50)\n",
    "    d_hat = compute_ranges(models[:,i])\n",
    "    RSS[i] = np.sum((d - d_hat)**2)\n",
    "    \n",
    "# Find minimum\n",
    "min_index = RSS.argmin()\n",
    "min_model = models[:,min_index]\n",
    "    \n",
    "# plot\n",
    "plt.figure()\n",
    "plt.plot((110, 172,828,698), (-65, 423,-143,354), 'o',color='red')\n",
    "plt.ylabel('$y$ coordinate')\n",
    "plt.xlabel('$x$ coordinate');\n",
    "# plot minimum model here\n",
    "plt.plot( min_model[0], min_model[1],'o',color='blue')"
   ]
  },
  {
   "cell_type": "code",
   "execution_count": null,
   "metadata": {},
   "outputs": [],
   "source": []
  }
 ],
 "metadata": {
  "kernelspec": {
   "display_name": "Python 3 (ipykernel)",
   "language": "python",
   "name": "python3"
  },
  "language_info": {
   "codemirror_mode": {
    "name": "ipython",
    "version": 3
   },
   "file_extension": ".py",
   "mimetype": "text/x-python",
   "name": "python",
   "nbconvert_exporter": "python",
   "pygments_lexer": "ipython3",
   "version": "3.11.9"
  }
 },
 "nbformat": 4,
 "nbformat_minor": 4
}
