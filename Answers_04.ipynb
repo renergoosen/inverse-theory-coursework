{
 "cells": [
  {
   "cell_type": "code",
   "execution_count": 2,
   "metadata": {},
   "outputs": [],
   "source": [
    "import matplotlib.pyplot as plt\n",
    "import numpy as np"
   ]
  },
  {
   "cell_type": "markdown",
   "metadata": {},
   "source": [
    "## SOEE3250/SOEE5675M/SOEE5116\t\t\t\t\t\n",
    "\n",
    "Inverse Theory\n",
    "\n",
    "# Practical 4: Non-linear least squares\n",
    "\n",
    "## Geophysical background\n",
    "The goal is to locate the epicentre (i.e. the x and y co-ordinates, but NOT the depth) of where an earthquake occurred, using the arrival times of two types of seismic wave recorded at 3 seismometers. The locations and arrival times at each seismometer are:\n",
    "\n",
    "| X-coord (km) |  Y-coord (km) | P-wave arrival | S-wave arrival | \n",
    "| :------ |:---------:| :---------: |---------:|\n",
    "|  27.3570  |      -58.2520 | 28.9   |  40.1\n",
    "|  5.8120  |   77.4070  | 23.8      |    31.3 |\n",
    "| -33.0670   |   -18.9540  | 29.5   |       41.2\n",
    "\n",
    "Each arrival time is measured in seconds after the time 14h:32.\n",
    "Assume that the seismic velocities for both P- and S- waves are constant, but unknown.\n",
    "The time (in seconds, after 14h:32) of the earthquake is also unknown.\n",
    "\n",
    "## Mathematical background\n",
    "You have 6 arrival times (6 data) and five unknowns (x,y of the wave source, the time that the waves are triggered, and the speed of the two types of measured wave. Your task is to find the unweighted least squares fit.\n",
    "\n",
    "You will need to use the relationship: speed = distance/time, or total time = slowness * distance + offset time\n"
   ]
  },
  {
   "cell_type": "markdown",
   "metadata": {},
   "source": [
    "Q1) What are the measurements? Create a vector (d), ordered with the P-wave arrivals first, then the S-wave arrivals."
   ]
  },
  {
   "cell_type": "code",
   "execution_count": 3,
   "metadata": {},
   "outputs": [],
   "source": [
    "d = np.array([28.9, 23.8, 29.5, 40.1, 31.3, 41.2])\n"
   ]
  },
  {
   "cell_type": "markdown",
   "metadata": {},
   "source": [
    "Q2) Create a vector (xseis) containing the x-coordinates of the seismometers and a corresponding vector (yseis). Create a new figure and plot the locations of the seismometers as blue circles."
   ]
  },
  {
   "cell_type": "code",
   "execution_count": 4,
   "metadata": {},
   "outputs": [
    {
     "data": {
      "image/png": "[encoded data removed]",
      "text/plain": [
       "<Figure size 432x288 with 1 Axes>"
      ]
     },
     "metadata": {
      "needs_background": "light"
     },
     "output_type": "display_data"
    }
   ],
   "source": [
    "xseis = np.array([27.3570, 5.8120, -33.0670])\n",
    "yseis = np.array([-58.2520, 77.4070, -18.9540])\n",
    "plt.figure()\n",
    "plt.plot(xseis, yseis, 'o', color='blue')\n",
    "plt.xlabel('X coordinate')\n",
    "plt.ylabel('Y coordinate');"
   ]
  },
  {
   "cell_type": "markdown",
   "metadata": {},
   "source": [
    "Q3) The five unknown model parameters are (in order):\n",
    "\n",
    "x,y, slowness_s, slowness_p, time.\n",
    "\n",
    "Each has units km,km,s/km, s/km, seconds after 14:32\n",
    " \n",
    "Using the slownesses (the reciprocal of speeds) instead of speeds will simplify the maths later on.\n",
    "\n",
    "The equation that relates $d[0]$, the first data component, to the model parameters (indices 0 - 4) is:\n",
    "$d[0] = m[4] + m[3] * \\sqrt{(xseis[0]-m[0])^2+(yseis[0]-m[1])^2)}$\n",
    "\n",
    "Write down similar equations for $d[1]$ and $d[2]$. "
   ]
  },
  {
   "cell_type": "markdown",
   "metadata": {},
   "source": [
    "$d[1] = m[4] + m[3] * \\sqrt{(xseis[1]-m[0])^2+(yseis[1]-m[1])^2)}$\n",
    "\n",
    "$d[2] = m[4] + m[3] * \\sqrt{(xseis[2]-m[0])^2+(yseis[2]-m[1])^2)}$\n"
   ]
  },
  {
   "cell_type": "markdown",
   "metadata": {},
   "source": [
    "Q4) Write down the equations that relate the model parameters to the measured S-wave arrival times measurements (in the same format $d[i] = \\dots$, where i = 3,4,5). The right hand side of these 3 equations, together with the 3 from the previous question make up $g({\\bf m})$."
   ]
  },
  {
   "cell_type": "markdown",
   "metadata": {},
   "source": [
    "$d[3] = m[4] + m[2] * \\sqrt{(xseis[0]-m[0])^2+(yseis[0]-m[1])^2)}$\n",
    "\n",
    "$d[4] = m[4] + m[2] * \\sqrt{(xseis[1]-m[0])^2+(yseis[1]-m[1])^2)}$\n",
    "\n",
    "$d[5] = m[4] + m[2] * \\sqrt{(xseis[2]-m[0])^2+(yseis[2]-m[1])^2)}$"
   ]
  },
  {
   "cell_type": "markdown",
   "metadata": {},
   "source": [
    "Q5) Setup a vector m_0 with an initial guess of the model vector with values: [10, 20 ,0.3, 0.1, 0]. Copy the plotting commands from before and add the location of your initial guess to your plot."
   ]
  },
  {
   "cell_type": "code",
   "execution_count": 5,
   "metadata": {},
   "outputs": [
    {
     "data": {
      "image/png": "[encoded data removed]",
      "text/plain": [
       "<Figure size 432x288 with 1 Axes>"
      ]
     },
     "metadata": {
      "needs_background": "light"
     },
     "output_type": "display_data"
    }
   ],
   "source": [
    "m_0 = np.array([10,20,0.3,0.1,0]  ) \n",
    "\n",
    "plt.figure()\n",
    "plt.plot(xseis, yseis, 'o', color='blue')\n",
    "plt.plot(m_0[0], m_0[1], 'x', color='red')\n",
    "plt.xlabel('X coordinate')\n",
    "plt.ylabel('Y coordinate');"
   ]
  },
  {
   "cell_type": "markdown",
   "metadata": {},
   "source": [
    "Q6) Create a function that determines $g({\\bf m)}$.\n",
    "Use it to calculate $g({\\bf m}_0)$, (call this vector d_hat), using the vector of initial guesses. \n",
    "\n",
    "The first component is done for you - add to the code to calculate the other components.\n",
    "\n",
    "You should find that d_hat is approximately [ 8.02   5.76  5.81 24.05  17.27 17.42]"
   ]
  },
  {
   "cell_type": "code",
   "execution_count": 6,
   "metadata": {},
   "outputs": [
    {
     "name": "stdout",
     "output_type": "stream",
     "text": [
      "[ 8.0153858   5.75595604  5.80704796 24.0461574  17.26786812 17.42114389]\n"
     ]
    }
   ],
   "source": [
    "def g_calculate(m):\n",
    "    \"\"\"Function that calculates g for given model m\"\"\"\n",
    "    g = np.zeros(6)\n",
    "    g[0] = m[4] + m[3] * np.sqrt( (xseis[0]-m[0])**2+(yseis[0]-m[1])**2)\n",
    "    #return\n",
    "    g[1] = m[4] + m[3] * np.sqrt( (xseis[1]-m[0])**2+(yseis[1]-m[1])**2)\n",
    "    g[2] = m[4] + m[3] * np.sqrt( (xseis[2]-m[0])**2+(yseis[2]-m[1])**2)\n",
    "    g[3] = m[4] + m[2] * np.sqrt( (xseis[0]-m[0])**2+(yseis[0]-m[1])**2)\n",
    "    g[4] = m[4] + m[2] * np.sqrt( (xseis[1]-m[0])**2+(yseis[1]-m[1])**2)\n",
    "    g[5] = m[4] + m[2] * np.sqrt( (xseis[2]-m[0])**2+(yseis[2]-m[1])**2)\n",
    "    return g\n",
    "d_hat = g_calculate(m_0)\n",
    "print( d_hat )"
   ]
  },
  {
   "cell_type": "markdown",
   "metadata": {},
   "source": [
    "Q7) Calculate delta_d =  d – d_hat"
   ]
  },
  {
   "cell_type": "code",
   "execution_count": 7,
   "metadata": {},
   "outputs": [
    {
     "name": "stdout",
     "output_type": "stream",
     "text": [
      "[20.8846142  18.04404396 23.69295204 16.0538426  14.03213188 23.77885611]\n"
     ]
    }
   ],
   "source": [
    "delta_d = d - d_hat\n",
    "print( delta_d )"
   ]
  },
  {
   "cell_type": "markdown",
   "metadata": {},
   "source": [
    "Q8) Make a function that calculates $\\partial_{m^T} g( {\\bf m})$. You need to differentiate each row of $g({\\bf m})$ with respect to each model parameter in turn, giving a 6 x 5 matrix.  The first column is done for you - add to the function to calculate the remaining components."
   ]
  },
  {
   "cell_type": "code",
   "execution_count": 8,
   "metadata": {},
   "outputs": [],
   "source": [
    "def g_derivatives(m):\n",
    "    \"\"\"Calculate the matrix of derivatives of g\"\"\"\n",
    "    A = np.zeros((6,5))\n",
    "    xseis = np.array([27.3570, 5.8120, -33.0670])\n",
    "    yseis = np.array([-58.2520, 77.4070, -18.9540])\n",
    "    # column 0 is the derivative of g with respect to model variable with index 0.\n",
    "    A[0,0] = m[3] * (m[0] - xseis[0]) / np.sqrt( (xseis[0]-m[0])**2+(yseis[0]-m[1])**2)\n",
    "    A[1,0] = m[3] * (m[0] - xseis[1]) / np.sqrt( (xseis[1]-m[0])**2+(yseis[1]-m[1])**2)\n",
    "    A[2,0] = m[3] * (m[0] - xseis[2]) / np.sqrt( (xseis[2]-m[0])**2+(yseis[2]-m[1])**2)\n",
    "    A[3,0] = m[2] * (m[0] - xseis[0]) / np.sqrt( (xseis[0]-m[0])**2+(yseis[0]-m[1])**2)\n",
    "    A[4,0] = m[2] * (m[0] - xseis[1]) / np.sqrt( (xseis[1]-m[0])**2+(yseis[1]-m[1])**2)\n",
    "    A[5,0] = m[2] * (m[0] - xseis[2]) / np.sqrt( (xseis[2]-m[0])**2+(yseis[2]-m[1])**2)\n",
    "\n",
    "    A[0,1] = m[3] * (m[1] - yseis[0]) / np.sqrt( (xseis[0]-m[0])**2+(yseis[0]-m[1])**2)\n",
    "    A[1,1] = m[3] * (m[1] - yseis[1]) / np.sqrt( (xseis[1]-m[0])**2+(yseis[1]-m[1])**2)\n",
    "    A[2,1] = m[3] * (m[1] - yseis[2]) / np.sqrt( (xseis[2]-m[0])**2+(yseis[2]-m[1])**2)\n",
    "    A[3,1] = m[2] * (m[1] - yseis[0]) / np.sqrt( (xseis[0]-m[0])**2+(yseis[0]-m[1])**2)\n",
    "    A[4,1] = m[2] * (m[1] - yseis[1]) / np.sqrt( (xseis[1]-m[0])**2+(yseis[1]-m[1])**2)\n",
    "    A[5,1] = m[2] * (m[1] - yseis[2]) / np.sqrt( (xseis[2]-m[0])**2+(yseis[2]-m[1])**2)\n",
    "    \n",
    "    A[0,2] = 0\n",
    "    A[1,2] = 0\n",
    "    A[2,2] = 0\n",
    "    A[3,2] = np.sqrt( (xseis[0]-m[0])**2+(yseis[0]-m[1])**2)\n",
    "    A[4,2] = np.sqrt( (xseis[1]-m[0])**2+(yseis[1]-m[1])**2)\n",
    "    A[5,2] = np.sqrt( (xseis[2]-m[0])**2+(yseis[2]-m[1])**2)\n",
    "    \n",
    "    A[0,3] = np.sqrt( (xseis[0]-m[0])**2+(yseis[0]-m[1])**2)\n",
    "    A[1,3] = np.sqrt( (xseis[1]-m[0])**2+(yseis[1]-m[1])**2)\n",
    "    A[2,3] = np.sqrt( (xseis[2]-m[0])**2+(yseis[2]-m[1])**2)\n",
    "    A[3,3] = 0\n",
    "    A[4,3] = 0\n",
    "    A[5,3] = 0\n",
    "    \n",
    "    A[:,4] = 1\n",
    "    \n",
    "\n",
    "    return A\n"
   ]
  },
  {
   "cell_type": "code",
   "execution_count": 9,
   "metadata": {},
   "outputs": [
    {
     "name": "stdout",
     "output_type": "stream",
     "text": [
      "[[-2.16546033e-02  9.76272408e-02  0.00000000e+00  8.01538580e+01\n",
      "   1.00000000e+00]\n",
      " [ 7.27594160e-03 -9.97349521e-02  0.00000000e+00  5.75595604e+01\n",
      "   1.00000000e+00]\n",
      " [ 7.41633275e-02  6.70805549e-02  0.00000000e+00  5.80704796e+01\n",
      "   1.00000000e+00]\n",
      " [-6.49638100e-02  2.92881723e-01  8.01538580e+01  0.00000000e+00\n",
      "   1.00000000e+00]\n",
      " [ 2.18278248e-02 -2.99204856e-01  5.75595604e+01  0.00000000e+00\n",
      "   1.00000000e+00]\n",
      " [ 2.22489983e-01  2.01241665e-01  5.80704796e+01  0.00000000e+00\n",
      "   1.00000000e+00]]\n"
     ]
    }
   ],
   "source": [
    "print( g_derivatives(m_0))\n"
   ]
  },
  {
   "cell_type": "markdown",
   "metadata": {},
   "source": [
    "Q9) Use least squares to estimate delta_m from A and delta_d.\n",
    "\n",
    "You should find that delta_m is approximately [ 28.49836833  9.50982501 -0.03501756  0.03342561 17.91858939]"
   ]
  },
  {
   "cell_type": "code",
   "execution_count": 10,
   "metadata": {},
   "outputs": [],
   "source": [
    "A = g_derivatives(m_0)\n",
    "delta_m = np.linalg.inv( A.transpose() @ A) @ A.transpose() @ delta_d"
   ]
  },
  {
   "cell_type": "code",
   "execution_count": 11,
   "metadata": {},
   "outputs": [
    {
     "name": "stdout",
     "output_type": "stream",
     "text": [
      "[28.49836833  9.50982501 -0.03501756  0.03342561 17.91858939]\n"
     ]
    }
   ],
   "source": [
    "print( delta_m )"
   ]
  },
  {
   "cell_type": "markdown",
   "metadata": {},
   "source": [
    "Q10) Add delta_m to m_0 to make m_1. This is your revised estimate of the model parameters. Copy and paste your plotting code from above, and add the revised location to your plot as a red circle."
   ]
  },
  {
   "cell_type": "code",
   "execution_count": 12,
   "metadata": {},
   "outputs": [
    {
     "data": {
      "image/png": "[encoded data removed]",
      "text/plain": [
       "<Figure size 432x288 with 1 Axes>"
      ]
     },
     "metadata": {
      "needs_background": "light"
     },
     "output_type": "display_data"
    }
   ],
   "source": [
    "m_1 = m_0 + delta_m\n",
    "\n",
    "plt.figure()\n",
    "plt.plot(xseis, yseis, 'o', color='blue')\n",
    "plt.plot(m_0[0], m_0[1], 'x', color='red')\n",
    "plt.plot(m_1[0], m_1[1], 'o', color='red')\n",
    "plt.xlabel('X coordinate')\n",
    "plt.ylabel('Y coordinate');\n"
   ]
  },
  {
   "cell_type": "markdown",
   "metadata": {},
   "source": [
    "Q11) Now iterate this procedure 10 times, beginning from m_0, displaying the 0th and 1st component of the model vector each time (i.e. the x,y position). You should see that the values converge, that is, the updates become increasingly small. When the updates lie below a threshold (such as 1e-12), the calculation can be deemed converged. Is 10 iterations enough for convergence? \n",
    "\n",
    "Below is some outline code which you need to complete.\n",
    "Make a plot showing the seismometer locations and each of the (x,y) model positions you find in the 10 iterations."
   ]
  },
  {
   "cell_type": "code",
   "execution_count": null,
   "metadata": {},
   "outputs": [],
   "source": [
    "current_model = np.array([10,20,0.3,0.1,0]  )\n",
    "for i in range(10):\n",
    "    delta_d = #\n",
    "    A = #\n",
    "    delta_m = #\n",
    "    current_model = # update the current model\n",
    "    "
   ]
  },
  {
   "cell_type": "code",
   "execution_count": 13,
   "metadata": {},
   "outputs": [
    {
     "name": "stdout",
     "output_type": "stream",
     "text": [
      "[28.49836833  9.50982501]\n",
      "[10.84681964  2.5551663 ]\n",
      "[0.23748893 0.6394298 ]\n",
      "[-0.01032977 -0.00016821]\n",
      "[-7.12593248e-05 -5.60296276e-05]\n",
      "[-1.59601477e-07 -1.03259589e-07]\n",
      "[-4.17137144e-10 -3.27222752e-10]\n",
      "[-9.04054609e-13 -6.12794537e-13]\n",
      "[-4.56856775e-14  1.62717062e-14]\n",
      "[-3.86912724e-14 -5.16843512e-14]\n",
      "[49.57227572 32.70419677]\n"
     ]
    },
    {
     "data": {
      "image/png": "[encoded data removed]",
      "text/plain": [
       "<Figure size 432x288 with 1 Axes>"
      ]
     },
     "metadata": {
      "needs_background": "light"
     },
     "output_type": "display_data"
    }
   ],
   "source": [
    "plt.figure()\n",
    "plt.plot(xseis, yseis, 'o', color='blue')\n",
    "\n",
    "current_model = np.array([10,20,0.3,0.1,0]  )\n",
    "for i in range(10):\n",
    "    delta_d = d - g_calculate(current_model)\n",
    "    A = g_derivatives(current_model)\n",
    "    delta_m = np.linalg.inv( A.transpose() @ A) @ A.transpose() @ delta_d\n",
    "    current_model = current_model + delta_m\n",
    "    plt.plot( current_model[0], current_model[1],'o', color='red')\n",
    "    print( delta_m[0:2])\n",
    "print( current_model[0:2] )"
   ]
  },
  {
   "cell_type": "markdown",
   "metadata": {},
   "source": [
    "10 iterations is enough for convergence, using a threshold of 1e-12."
   ]
  },
  {
   "cell_type": "code",
   "execution_count": null,
   "metadata": {},
   "outputs": [],
   "source": []
  }
 ],
 "metadata": {
  "kernelspec": {
   "display_name": "Python 3 (ipykernel)",
   "language": "python",
   "name": "python3"
  },
  "language_info": {
   "codemirror_mode": {
    "name": "ipython",
    "version": 3
   },
   "file_extension": ".py",
   "mimetype": "text/x-python",
   "name": "python",
   "nbconvert_exporter": "python",
   "pygments_lexer": "ipython3",
   "version": "3.11.9"
  }
 },
 "nbformat": 4,
 "nbformat_minor": 4
}
