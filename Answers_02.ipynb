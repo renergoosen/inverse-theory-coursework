{
 "cells": [
  {
   "cell_type": "code",
   "execution_count": 1,
   "metadata": {},
   "outputs": [],
   "source": [
    "import matplotlib.pyplot as plt\n",
    "import numpy as np"
   ]
  },
  {
   "cell_type": "markdown",
   "metadata": {},
   "source": [
    "## SOEE3250/SOEE5675/SOEE5675M\t\t\t\t\t2024/25\n",
    "\n",
    "Inverse Theory\n",
    "\n",
    "# Practical 2: Least squares estimation\n",
    "\n",
    "## Geophysical background\n",
    "A survey seismic refraction experiment has been carried out as shown in Figure 1. Your goal is to determine the seismic velocity (that is, the speed that seismic waves can travel) of the three different layers and the thickness of the upper two.\n",
    "\n",
    "<img src=\"../Figures/Prac2_fig1.png\" alt=\"drawing\" style=\"width:400px;\"/>\n",
    "Figure 1. Seismic refraction survey set up.\n",
    "\n",
    "\n",
    "We assume that for each layer, the seismic velocity successively increases.\n",
    "At the geophones (the seismometers that measure the waves) closest to the source, the first arrivals are the direct waves that travel along the surface. In the middle distance, the first arrivals are the refracted waves that travel along the top of the middle layer, because the waves can travel through the middle layer (even with the descent and ascent of the wave) in less time than the direct surface wave takes. For a similar reason, at the farthest geophones, the first arrivals are refracted and travel along the top of the deepest layer (which has the fastest seismic velocity). A plot of first arrivals looks like Figure 2.\n",
    "\n",
    " \n",
    "<img src=\"../Figures/Prac2_fig2.png\" alt=\"drawing\" style=\"width:400px;\"/>\n",
    "Figure 2. Time of first arrivals.\n",
    "\n",
    "The slopes represent the “slowness” (reciprocal of velocity) of each layer. The intercepts with the y-axis are related to the velocities and the depths by the following formulae:\n",
    "\n",
    "$\\large \\tau_1 = 2 z_1 \\frac{ \\sqrt{ c_2^2 - c_1^2}}{c_2 c_1}$\n",
    "\n",
    "$\\large \\tau_2 = 2 z_1 \\frac{ \\sqrt{ c_3^2 - c_1^2}}{c_3 c_1} + 2 z_2 \\frac{ \\sqrt{ c_3^2 - c_2^2}}{c_3 c_2}$\n",
    "\n",
    "where $z_1$ and $z_2$ are the thicknesses of the upper and middle layers, respectively, $c_1$ and $c_2$ are the corresponding velocities, and $c_3$ is the velocity of the bottom layer. The locations and measured first arrival times are given in Table 1.\n",
    "\n",
    "| Distance (m)   | First arrival time (s)  |  \n",
    "| :------ |---------:|\n",
    "|  80 | 0.0474 |\n",
    "|  160 | 0.0979 |\n",
    "| 240 | 0.1481 | \n",
    "| 320 | 0.1949 |\n",
    "| 400 | 0.2288 | \n",
    "| 480 | 0.2563 |\n",
    "| 560 | 0.2819 |\n",
    "| 640 | 0.3108 |\n",
    "| 720 | 0.3325 |\n",
    "| 800 | 0.3529 |\n",
    "| 880 | 0.3694 |\n",
    "\n",
    "Table 1. Distance from source and time of first arrival, for each receiver.\n",
    "\n",
    "The first four measurements are related to the speed of waves in the upper layer; the second four to the middle layer; and the remaining 3 to the bottom layer.\n",
    "\n",
    "## Mathematical background\n",
    "\n",
    "This practical is essentially about fitting least-squares straight lines through three groups of data: points $1-4$, $5-8$, $9-11$.\n",
    "\n",
    "<img src=\"../Figures/Prac2_fig3.png\" alt=\"drawing\" style=\"width:500px;\"/>\n",
    "\n",
    "- The first straightline segment (blue), with zero intercept, has a gradient related to $c_1$. \n",
    "- The second straightline (orange) has intercept $\\tau_1$ and a gradient related to $c_2$.\n",
    "- The third straightline (purple) has intercept $\\tau_2$ and a gradient related to $c_3$.\n",
    "\n",
    "Using the formulae given above, the layer depths $z_1$ and $z_2$ can be calculated.\n",
    "\n"
   ]
  },
  {
   "cell_type": "markdown",
   "metadata": {},
   "source": [
    "Q1) What is the data vector in this problem, and what are the overall model parameters? "
   ]
  },
  {
   "cell_type": "markdown",
   "metadata": {},
   "source": [
    "The data vector is the arrival times; the model parameters are $c_1$, $c_2$, $c_3$, $z_1$, $z_2$."
   ]
  },
  {
   "cell_type": "markdown",
   "metadata": {},
   "source": [
    "Q2) Define a vector of arrival times and a vector of distances. Make a plot of arrival time versus distance for the observations. Add a title and label the axes. "
   ]
  },
  {
   "cell_type": "code",
   "execution_count": 3,
   "metadata": {},
   "outputs": [],
   "source": [
    "#plt.figure()\n",
    "#plt.plot(x,y 'o',color='red')\n",
    "#plt.ylabel('')\n",
    "#plt.xlabel('');\n",
    "#plt.title('My title')"
   ]
  },
  {
   "cell_type": "code",
   "execution_count": 3,
   "metadata": {},
   "outputs": [
    {
     "data": {
      "image/png": "[encoded data removed]",
      "text/plain": [
       "<Figure size 432x288 with 1 Axes>"
      ]
     },
     "metadata": {
      "needs_background": "light"
     },
     "output_type": "display_data"
    }
   ],
   "source": [
    "d = np.array([0.0474, 0.0979, 0.1481, 0.1949, 0.2288, 0.2563, 0.2819, 0.3108, 0.3325, 0.3529, 0.3694])\n",
    "distance = np.array([80, 160, 240, 320, 400, 480, 560, 640, 720, 800, 880]) \n",
    "plt.figure()\n",
    "plt.plot(distance, d, 'o',color='red')\n",
    "plt.ylabel('Arrival time (s)')\n",
    "plt.xlabel('Distance (m)');\n",
    "plt.title('Arrival time against distance');"
   ]
  },
  {
   "cell_type": "markdown",
   "metadata": {},
   "source": [
    "Q3) The measurements at the first 4 geophones relate to the upper layer. Using markdown, write down the equations that relates the velocity of the upper layer, $c_1$, to these 4 measurements (in the format $d_i=\\dots$). For the upper layer, what are the unknown parameters ($m_i$)? Is the problem linear (i.e., is $d_i$ the weighted sum of the unknown parameter(s))?\n"
   ]
  },
  {
   "cell_type": "markdown",
   "metadata": {},
   "source": [
    "A3) \n",
    "$d_1= distance_1/c_1$  \n",
    "\n",
    "$d_2= distance_2/c_1$\n",
    "\n",
    "$d_3= distance_3/c_1$\n",
    "\n",
    "$d_4= distance_4/c_1$\n",
    "\n",
    "The only unknown parameter for the upper layer is $c_1$.\n",
    "The data depend non-linearly on the velocity $c_1$."
   ]
  },
  {
   "cell_type": "markdown",
   "metadata": {},
   "source": [
    "Q4) Now rewrite the equations using slowness of the upper layer, $s_1$ (where $s_1=1/c_1$), instead of velocity. Is the system now linear?"
   ]
  },
  {
   "cell_type": "markdown",
   "metadata": {},
   "source": [
    "A4) \n",
    "$d_1= distance_1 s_1$  \n",
    "\n",
    "$d_2= distance_2 s_1$\n",
    "\n",
    "$d_3= distance_3 s_1$\n",
    "\n",
    "$d_4= distance_4 s_1$\n",
    "\n",
    "The data now depend linearly on the unknown slowness $s_1$."
   ]
  },
  {
   "cell_type": "markdown",
   "metadata": {},
   "source": [
    "Q5) Set up a vector of observations for the upper layer $d1$ and a forward operator matrix ($G1$) based on the equations you wrote down above. \n",
    "The columns of $G1$ should correspond to the multipliers of $m_i$."
   ]
  },
  {
   "cell_type": "code",
   "execution_count": null,
   "metadata": {},
   "outputs": [],
   "source": [
    "d1 = \n",
    "G1 = np.zeros((4,1))  #setup G1 as a matrix of zeros\n",
    "G1[0:4,0] =   #set values here.\n"
   ]
  },
  {
   "cell_type": "code",
   "execution_count": 4,
   "metadata": {},
   "outputs": [],
   "source": [
    "d1 = d[0:4]\n",
    "G1 = np.zeros((4,1))\n",
    "G1[0:4,0] = distance[0:4]\n"
   ]
  },
  {
   "cell_type": "markdown",
   "metadata": {},
   "source": [
    "Q6) Use least squares to estimate $s_1$, and then calculate $c_1$ from $s_1$. What are the units of $c_1$? As a check, you should get 1635.9. \n",
    "\n",
    "Recall: the matrix inverse can be found using np.linalg.inv(), the transpose of A is A.transpose(), and the product of matrices A and B can be written as A @ B."
   ]
  },
  {
   "cell_type": "code",
   "execution_count": 5,
   "metadata": {},
   "outputs": [
    {
     "name": "stdout",
     "output_type": "stream",
     "text": [
      "[1635.88030809]\n",
      "An estimate of speed c1 is 1635.88 m/s\n"
     ]
    }
   ],
   "source": [
    "s1hat = np.linalg.inv ( G1.transpose() @ G1 ) @ G1.transpose() @ d1 \n",
    "c1hat = 1/s1hat\n",
    "print(c1hat)\n",
    "print('An estimate of speed c1 is {0:.2f} m/s'.format(float(c1hat)) )"
   ]
  },
  {
   "cell_type": "markdown",
   "metadata": {},
   "source": [
    "Q7) Copy and paste the plotting code from your answer to Q2 into the cell below. To this plot add a line (in a different colour), based on your estimated value of $s_1$. \n",
    "Does it look visually like you have found the least squares solution to the straight line fit of the first four data points?"
   ]
  },
  {
   "cell_type": "code",
   "execution_count": 6,
   "metadata": {},
   "outputs": [
    {
     "data": {
      "image/png": "[encoded data removed]",
      "text/plain": [
       "<Figure size 432x288 with 1 Axes>"
      ]
     },
     "metadata": {
      "needs_background": "light"
     },
     "output_type": "display_data"
    }
   ],
   "source": [
    "d = np.array([0.0474, 0.0979, 0.1481, 0.1949, 0.2288, 0.2563, 0.2819, 0.3108, 0.3325, 0.3529, 0.3694])\n",
    "a = np.array([80, 160, 240, 320, 400, 480, 560, 640, 720, 800, 880]) #distance\n",
    "plt.figure()\n",
    "plt.plot(distance, d, 'o',color='red')\n",
    "plt.ylabel('Arrival time (s)')\n",
    "plt.xlabel('Distance (m)');\n",
    "plt.title('Arrival time against distance');\n",
    "x = np.linspace(0,880,1000)\n",
    "y = s1hat * x\n",
    "plt.plot(x,y,'-',color='blue');\n"
   ]
  },
  {
   "cell_type": "markdown",
   "metadata": {},
   "source": [
    "Q8) The middle layer is defined the next 4 geophones. Write down the equation that relates the slowness of the middle layer ($s_2$) and the intercept ($\\tau_1$) to the measurements at the next 4 geophones (in the format $d_i=\\dots$). \n",
    "What are the unknown parameters ($m_i$)?"
   ]
  },
  {
   "cell_type": "markdown",
   "metadata": {},
   "source": [
    "$d_i= distance_i s_2 + \\tau_1$, $i=5,6,7,8$.\n",
    "\n",
    "The unknown parameters are $s_2$ and $\\tau_1$."
   ]
  },
  {
   "cell_type": "markdown",
   "metadata": {},
   "source": [
    "Q9) Set up a vector of observations ($d2$) for the middle layer and a forward operator matrix ($G2$) based on the equations above. Use least squares to estimate $s_2$ (and therefore $c_2$) and $\\tau_1$.  As a check, the value for $c_2$ should be about 2946 m/s."
   ]
  },
  {
   "cell_type": "code",
   "execution_count": 7,
   "metadata": {},
   "outputs": [
    {
     "name": "stdout",
     "output_type": "stream",
     "text": [
      "An estimate of speed c2 is 2945.51 m/s\n"
     ]
    }
   ],
   "source": [
    "d2 = d[4:8]\n",
    "G2 = np.zeros((4,2))\n",
    "G2[0:4,0] = [1,1,1,1]\n",
    "G2[0:4,1] = distance[4:8]\n",
    "mhat = np.linalg.inv ( G2.transpose() @ G2 ) @ G2.transpose() @ d2  #mhat = [tau_1, s_2] \n",
    "c2hat = 1/mhat[1]\n",
    "tau1hat = mhat[0]\n",
    "print('An estimate of speed c2 is {0:.2f} m/s'.format(float(c2hat)) )"
   ]
  },
  {
   "cell_type": "markdown",
   "metadata": {},
   "source": [
    "Q10) Copy and paste your plotting code from Q7 and add a line to the plot, in a different colour, based on your estimates for the middle layer. "
   ]
  },
  {
   "cell_type": "code",
   "execution_count": 9,
   "metadata": {},
   "outputs": [
    {
     "data": {
      "image/png": "[encoded data removed]",
      "text/plain": [
       "<Figure size 432x288 with 1 Axes>"
      ]
     },
     "metadata": {
      "needs_background": "light"
     },
     "output_type": "display_data"
    }
   ],
   "source": [
    "plt.figure()\n",
    "plt.plot(distance, d, 'o',color='red')\n",
    "plt.ylabel('Arrival time (s)')\n",
    "plt.xlabel('Distance (m)');\n",
    "plt.title('Arrival time against distance');\n",
    "x = np.linspace(0,880,1000)\n",
    "y = s1hat * x\n",
    "plt.plot(x,y,'-',color='blue');\n",
    "x = np.linspace(0,880,1000)\n",
    "y = x / c2hat + tau1hat\n",
    "plt.plot(x,y,'-',color='orange');"
   ]
  },
  {
   "cell_type": "markdown",
   "metadata": {},
   "source": [
    "Q11) What is the estimated thickness of the upper layer ($z_1$)? "
   ]
  },
  {
   "cell_type": "markdown",
   "metadata": {},
   "source": [
    "A11) Using the formula $\\tau_1 = 2 z_1 \\frac{ \\sqrt{ c_2^2 - c_1^2}}{c_2 c_1}$"
   ]
  },
  {
   "cell_type": "code",
   "execution_count": 10,
   "metadata": {},
   "outputs": [
    {
     "name": "stdout",
     "output_type": "stream",
     "text": [
      "An estimate of depth z1 is 91.38 m\n"
     ]
    }
   ],
   "source": [
    "z1hat = tau1hat/2  * (c2hat * c1hat) / np.sqrt( c2hat**2 - c1hat**2) \n",
    "\n",
    "print('An estimate of depth z1 is {0:.2f} m'.format(float(z1hat)) )"
   ]
  },
  {
   "cell_type": "markdown",
   "metadata": {},
   "source": [
    "Q12) The remaining 3 geophones constrain the bottom layer. Now estimate the velocity of the bottom layer ($c_3$) and the thickness of the middle layer ($z_2$) using least squares, and add an appropriate third line to your plot. As a check, the value for $c_3$ should be 4336 m/s, and the depth $z_2$ should be 127.7m.\n"
   ]
  },
  {
   "cell_type": "code",
   "execution_count": 13,
   "metadata": {},
   "outputs": [
    {
     "name": "stdout",
     "output_type": "stream",
     "text": [
      "An estimate of speed c3 is 4336.04 m/s\n"
     ]
    },
    {
     "data": {
      "image/png": "[encoded data removed]",
      "text/plain": [
       "<Figure size 432x288 with 1 Axes>"
      ]
     },
     "metadata": {
      "needs_background": "light"
     },
     "output_type": "display_data"
    }
   ],
   "source": [
    "d3 = d[8:12]\n",
    "G3 = np.zeros((3,2))\n",
    "G3[0:4,0] = [1,1,1]\n",
    "G3[0:4,1] = distance[8:11]\n",
    "mhat = np.linalg.inv ( G3.transpose() @ G3 ) @ G3.transpose() @ d3  #mhat = [tau_2, s_3] \n",
    "c3hat = 1/mhat[1]\n",
    "tau2hat = mhat[0]\n",
    "print('An estimate of speed c3 is {0:.2f} m/s'.format(float(c3hat)) )\n",
    "\n",
    "plt.figure()\n",
    "plt.plot(distance, d, 'o',color='red')\n",
    "plt.ylabel('Arrival time (s)')\n",
    "plt.xlabel('Distance (m)');\n",
    "plt.title('Arrival time against distance');\n",
    "x = np.linspace(0,880,1000)\n",
    "y = s1hat * x\n",
    "plt.plot(x,y,'-',color='blue');\n",
    "x = np.linspace(0,880,1000)\n",
    "y = x / c2hat + tau1hat\n",
    "plt.plot(x,y,'-',color='orange');\n",
    "y = x / c3hat + tau2hat\n",
    "plt.plot(x,y,'-',color='purple');\n"
   ]
  },
  {
   "cell_type": "markdown",
   "metadata": {},
   "source": [
    "Using the formula $ \\tau_2 = 2 z_1 \\frac{ \\sqrt{ c_3^2 - c_1^2}}{c_3 c_1} + 2 z_2 \\frac{ \\sqrt{ c_3^2 - c_2^2}}{c_3 c_2}$\n"
   ]
  },
  {
   "cell_type": "code",
   "execution_count": 14,
   "metadata": {},
   "outputs": [
    {
     "name": "stdout",
     "output_type": "stream",
     "text": [
      "An estimate of depth z2 is 127.70 m\n"
     ]
    }
   ],
   "source": [
    "z2hat = (tau2hat - 2 * z1hat * np.sqrt( c3hat**2 - c1hat**2)/(c3hat * c1hat))/2*(c3hat * c2hat)/np.sqrt( c3hat**2 - c2hat**2)\n",
    "print('An estimate of depth z2 is {0:.2f} m'.format(float(z2hat)) )"
   ]
  },
  {
   "cell_type": "code",
   "execution_count": null,
   "metadata": {},
   "outputs": [],
   "source": []
  }
 ],
 "metadata": {
  "kernelspec": {
   "display_name": "Python 3 (ipykernel)",
   "language": "python",
   "name": "python3"
  },
  "language_info": {
   "codemirror_mode": {
    "name": "ipython",
    "version": 3
   },
   "file_extension": ".py",
   "mimetype": "text/x-python",
   "name": "python",
   "nbconvert_exporter": "python",
   "pygments_lexer": "ipython3",
   "version": "3.11.9"
  }
 },
 "nbformat": 4,
 "nbformat_minor": 4
}
