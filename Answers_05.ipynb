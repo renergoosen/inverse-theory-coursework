{
 "cells": [
  {
   "cell_type": "code",
   "execution_count": 2,
   "metadata": {},
   "outputs": [],
   "source": [
    "import matplotlib.pyplot as plt\n",
    "import numpy as np"
   ]
  },
  {
   "cell_type": "markdown",
   "metadata": {},
   "source": [
    "## SOEE3250/SOEE5675M/SOEE5116\t\t\t\t\t\n",
    "\n",
    "Inverse Theory\n",
    "\n",
    "# Practical 5: Non-uniqueness and SVD\n",
    "In this practical we will investigate non-uniqueness: model null spaces, data null spaces, and the generalised inverse that we discussed in lectures. We will begin by confirming some of the results in lecture 5, before trying a more complicated example.\n",
    "\n",
    "# Example 1:\n",
    "In this simple example, a single seismic wave (whose wave front here is modelled as a ray) passes through two blocks of width 1, of unknown slowness. Here, everything is presented relative to a reference model, so we use relative travel times and relative slowness.\n",
    "\n",
    "\n",
    "<img src=\"../Figures/Prac5_fig1.png\" alt=\"drawing\" style=\"width:700px;\"/>\n",
    "Figure 1. Example 1 in the lecture: a single ray constraints two slowness values.\n"
   ]
  },
  {
   "cell_type": "markdown",
   "metadata": {},
   "source": [
    "Q1) How large is the data vector (note that I haven't given you any data values)?\n",
    "What is the model vector?\n",
    "The matrix G that links the two is given below: note that the SVD function expects a matrix and not a vector, hence the need for double square brackets."
   ]
  },
  {
   "cell_type": "markdown",
   "metadata": {},
   "source": [
    "The data vector is of length 1, the model vector of length 2."
   ]
  },
  {
   "cell_type": "code",
   "execution_count": 3,
   "metadata": {},
   "outputs": [],
   "source": [
    "G = np.array([[1,1]])  #This is a matrix with one row\n",
    "#G = np.array([1,1])  #This is a vector, and the SVD function will fail if you use this."
   ]
  },
  {
   "cell_type": "raw",
   "metadata": {},
   "source": [
    "Q2) Find the SVD decomposition. First look at the help page"
   ]
  },
  {
   "cell_type": "code",
   "execution_count": 4,
   "metadata": {},
   "outputs": [
    {
     "data": {
      "text/plain": [
       "\u001b[0;31mSignature:\u001b[0m       \u001b[0mnp\u001b[0m\u001b[0;34m.\u001b[0m\u001b[0mlinalg\u001b[0m\u001b[0;34m.\u001b[0m\u001b[0msvd\u001b[0m\u001b[0;34m(\u001b[0m\u001b[0ma\u001b[0m\u001b[0;34m,\u001b[0m \u001b[0mfull_matrices\u001b[0m\u001b[0;34m=\u001b[0m\u001b[0;32mTrue\u001b[0m\u001b[0;34m,\u001b[0m \u001b[0mcompute_uv\u001b[0m\u001b[0;34m=\u001b[0m\u001b[0;32mTrue\u001b[0m\u001b[0;34m,\u001b[0m \u001b[0mhermitian\u001b[0m\u001b[0;34m=\u001b[0m\u001b[0;32mFalse\u001b[0m\u001b[0;34m)\u001b[0m\u001b[0;34m\u001b[0m\u001b[0;34m\u001b[0m\u001b[0m\n",
       "\u001b[0;31mCall signature:\u001b[0m  \u001b[0mnp\u001b[0m\u001b[0;34m.\u001b[0m\u001b[0mlinalg\u001b[0m\u001b[0;34m.\u001b[0m\u001b[0msvd\u001b[0m\u001b[0;34m(\u001b[0m\u001b[0;34m*\u001b[0m\u001b[0margs\u001b[0m\u001b[0;34m,\u001b[0m \u001b[0;34m**\u001b[0m\u001b[0mkwargs\u001b[0m\u001b[0;34m)\u001b[0m\u001b[0;34m\u001b[0m\u001b[0;34m\u001b[0m\u001b[0m\n",
       "\u001b[0;31mType:\u001b[0m            _ArrayFunctionDispatcher\n",
       "\u001b[0;31mString form:\u001b[0m     <function svd at 0x7f12c8223b00>\n",
       "\u001b[0;31mFile:\u001b[0m            /opt/conda/lib/python3.11/site-packages/numpy/linalg/linalg.py\n",
       "\u001b[0;31mDocstring:\u001b[0m      \n",
       "Singular Value Decomposition.\n",
       "\n",
       "When `a` is a 2D array, and ``full_matrices=False``, then it is\n",
       "factorized as ``u @ np.diag(s) @ vh = (u * s) @ vh``, where\n",
       "`u` and the Hermitian transpose of `vh` are 2D arrays with\n",
       "orthonormal columns and `s` is a 1D array of `a`'s singular\n",
       "values. When `a` is higher-dimensional, SVD is applied in\n",
       "stacked mode as explained below.\n",
       "\n",
       "Parameters\n",
       "----------\n",
       "a : (..., M, N) array_like\n",
       "    A real or complex array with ``a.ndim >= 2``.\n",
       "full_matrices : bool, optional\n",
       "    If True (default), `u` and `vh` have the shapes ``(..., M, M)`` and\n",
       "    ``(..., N, N)``, respectively.  Otherwise, the shapes are\n",
       "    ``(..., M, K)`` and ``(..., K, N)``, respectively, where\n",
       "    ``K = min(M, N)``.\n",
       "compute_uv : bool, optional\n",
       "    Whether or not to compute `u` and `vh` in addition to `s`.  True\n",
       "    by default.\n",
       "hermitian : bool, optional\n",
       "    If True, `a` is assumed to be Hermitian (symmetric if real-valued),\n",
       "    enabling a more efficient method for finding singular values.\n",
       "    Defaults to False.\n",
       "\n",
       "    .. versionadded:: 1.17.0\n",
       "\n",
       "Returns\n",
       "-------\n",
       "When `compute_uv` is True, the result is a namedtuple with the following\n",
       "attribute names:\n",
       "\n",
       "U : { (..., M, M), (..., M, K) } array\n",
       "    Unitary array(s). The first ``a.ndim - 2`` dimensions have the same\n",
       "    size as those of the input `a`. The size of the last two dimensions\n",
       "    depends on the value of `full_matrices`. Only returned when\n",
       "    `compute_uv` is True.\n",
       "S : (..., K) array\n",
       "    Vector(s) with the singular values, within each vector sorted in\n",
       "    descending order. The first ``a.ndim - 2`` dimensions have the same\n",
       "    size as those of the input `a`.\n",
       "Vh : { (..., N, N), (..., K, N) } array\n",
       "    Unitary array(s). The first ``a.ndim - 2`` dimensions have the same\n",
       "    size as those of the input `a`. The size of the last two dimensions\n",
       "    depends on the value of `full_matrices`. Only returned when\n",
       "    `compute_uv` is True.\n",
       "\n",
       "Raises\n",
       "------\n",
       "LinAlgError\n",
       "    If SVD computation does not converge.\n",
       "\n",
       "See Also\n",
       "--------\n",
       "scipy.linalg.svd : Similar function in SciPy.\n",
       "scipy.linalg.svdvals : Compute singular values of a matrix.\n",
       "\n",
       "Notes\n",
       "-----\n",
       "\n",
       ".. versionchanged:: 1.8.0\n",
       "   Broadcasting rules apply, see the `numpy.linalg` documentation for\n",
       "   details.\n",
       "\n",
       "The decomposition is performed using LAPACK routine ``_gesdd``.\n",
       "\n",
       "SVD is usually described for the factorization of a 2D matrix :math:`A`.\n",
       "The higher-dimensional case will be discussed below. In the 2D case, SVD is\n",
       "written as :math:`A = U S V^H`, where :math:`A = a`, :math:`U= u`,\n",
       ":math:`S= \\mathtt{np.diag}(s)` and :math:`V^H = vh`. The 1D array `s`\n",
       "contains the singular values of `a` and `u` and `vh` are unitary. The rows\n",
       "of `vh` are the eigenvectors of :math:`A^H A` and the columns of `u` are\n",
       "the eigenvectors of :math:`A A^H`. In both cases the corresponding\n",
       "(possibly non-zero) eigenvalues are given by ``s**2``.\n",
       "\n",
       "If `a` has more than two dimensions, then broadcasting rules apply, as\n",
       "explained in :ref:`routines.linalg-broadcasting`. This means that SVD is\n",
       "working in \"stacked\" mode: it iterates over all indices of the first\n",
       "``a.ndim - 2`` dimensions and for each combination SVD is applied to the\n",
       "last two indices. The matrix `a` can be reconstructed from the\n",
       "decomposition with either ``(u * s[..., None, :]) @ vh`` or\n",
       "``u @ (s[..., None] * vh)``. (The ``@`` operator can be replaced by the\n",
       "function ``np.matmul`` for python versions below 3.5.)\n",
       "\n",
       "If `a` is a ``matrix`` object (as opposed to an ``ndarray``), then so are\n",
       "all the return values.\n",
       "\n",
       "Examples\n",
       "--------\n",
       ">>> a = np.random.randn(9, 6) + 1j*np.random.randn(9, 6)\n",
       ">>> b = np.random.randn(2, 7, 8, 3) + 1j*np.random.randn(2, 7, 8, 3)\n",
       "\n",
       "Reconstruction based on full SVD, 2D case:\n",
       "\n",
       ">>> U, S, Vh = np.linalg.svd(a, full_matrices=True)\n",
       ">>> U.shape, S.shape, Vh.shape\n",
       "((9, 9), (6,), (6, 6))\n",
       ">>> np.allclose(a, np.dot(U[:, :6] * S, Vh))\n",
       "True\n",
       ">>> smat = np.zeros((9, 6), dtype=complex)\n",
       ">>> smat[:6, :6] = np.diag(S)\n",
       ">>> np.allclose(a, np.dot(U, np.dot(smat, Vh)))\n",
       "True\n",
       "\n",
       "Reconstruction based on reduced SVD, 2D case:\n",
       "\n",
       ">>> U, S, Vh = np.linalg.svd(a, full_matrices=False)\n",
       ">>> U.shape, S.shape, Vh.shape\n",
       "((9, 6), (6,), (6, 6))\n",
       ">>> np.allclose(a, np.dot(U * S, Vh))\n",
       "True\n",
       ">>> smat = np.diag(S)\n",
       ">>> np.allclose(a, np.dot(U, np.dot(smat, Vh)))\n",
       "True\n",
       "\n",
       "Reconstruction based on full SVD, 4D case:\n",
       "\n",
       ">>> U, S, Vh = np.linalg.svd(b, full_matrices=True)\n",
       ">>> U.shape, S.shape, Vh.shape\n",
       "((2, 7, 8, 8), (2, 7, 3), (2, 7, 3, 3))\n",
       ">>> np.allclose(b, np.matmul(U[..., :3] * S[..., None, :], Vh))\n",
       "True\n",
       ">>> np.allclose(b, np.matmul(U[..., :3], S[..., None] * Vh))\n",
       "True\n",
       "\n",
       "Reconstruction based on reduced SVD, 4D case:\n",
       "\n",
       ">>> U, S, Vh = np.linalg.svd(b, full_matrices=False)\n",
       ">>> U.shape, S.shape, Vh.shape\n",
       "((2, 7, 8, 3), (2, 7, 3), (2, 7, 3, 3))\n",
       ">>> np.allclose(b, np.matmul(U * S[..., None, :], Vh))\n",
       "True\n",
       ">>> np.allclose(b, np.matmul(U, S[..., None] * Vh))\n",
       "True\n",
       "\u001b[0;31mClass docstring:\u001b[0m\n",
       "Class to wrap functions with checks for __array_function__ overrides.\n",
       "\n",
       "All arguments are required, and can only be passed by position.\n",
       "\n",
       "Parameters\n",
       "----------\n",
       "dispatcher : function or None\n",
       "    The dispatcher function that returns a single sequence-like object\n",
       "    of all arguments relevant.  It must have the same signature (except\n",
       "    the default values) as the actual implementation.\n",
       "    If ``None``, this is a ``like=`` dispatcher and the\n",
       "    ``_ArrayFunctionDispatcher`` must be called with ``like`` as the\n",
       "    first (additional and positional) argument.\n",
       "implementation : function\n",
       "    Function that implements the operation on NumPy arrays without\n",
       "    overrides.  Arguments passed calling the ``_ArrayFunctionDispatcher``\n",
       "    will be forwarded to this (and the ``dispatcher``) as if using\n",
       "    ``*args, **kwargs``.\n",
       "\n",
       "Attributes\n",
       "----------\n",
       "_implementation : function\n",
       "    The original implementation passed in."
      ]
     },
     "metadata": {},
     "output_type": "display_data"
    }
   ],
   "source": [
    "np.linalg.svd?"
   ]
  },
  {
   "cell_type": "markdown",
   "metadata": {},
   "source": [
    "You will see that the function does NOT return U, S and V, but rather U, the diagonal elements of S, and V transposed."
   ]
  },
  {
   "cell_type": "code",
   "execution_count": 5,
   "metadata": {},
   "outputs": [],
   "source": [
    "U,diagS,Vt = np.linalg.svd(G)"
   ]
  },
  {
   "cell_type": "markdown",
   "metadata": {},
   "source": [
    "Q3) How many non-zero singular values are there? What is N and M in this problem? Is there a model null space or a data null space? If so, display spanning vectors on the screen. Is this the same as presented in the lecture?"
   ]
  },
  {
   "cell_type": "markdown",
   "metadata": {},
   "source": [
    "p=1, N=1, M=2. There is no data null space, but there is a model null space, spanned by the 2nd column of V"
   ]
  },
  {
   "cell_type": "code",
   "execution_count": 6,
   "metadata": {},
   "outputs": [
    {
     "name": "stdout",
     "output_type": "stream",
     "text": [
      "[-0.70710678  0.70710678]\n"
     ]
    }
   ],
   "source": [
    "print( Vt.transpose()[:,1])"
   ]
  },
  {
   "cell_type": "markdown",
   "metadata": {},
   "source": [
    "# Example 2:\n",
    "This is example 2 in the lecture: we now have two rays and one block.\n",
    "\n",
    "<img src=\"../Figures/Prac5_fig2.png\" alt=\"drawing\" style=\"width:700px;\"/>\n",
    "Figure 2. Example 2 in the lecture: two rays constrain a single slowness values.\n"
   ]
  },
  {
   "cell_type": "markdown",
   "metadata": {},
   "source": [
    "Q4) What size are the data and model vectors? In Python, define the matrix G."
   ]
  },
  {
   "cell_type": "code",
   "execution_count": 7,
   "metadata": {},
   "outputs": [],
   "source": [
    "G = np.array([[1],[1]])"
   ]
  },
  {
   "cell_type": "markdown",
   "metadata": {},
   "source": [
    "Q5) Calculate the SVD decomposition of G, and write down how many non-zero singular values there are."
   ]
  },
  {
   "cell_type": "code",
   "execution_count": 8,
   "metadata": {},
   "outputs": [],
   "source": [
    "U,diagS,Vt = np.linalg.svd(G)"
   ]
  },
  {
   "cell_type": "code",
   "execution_count": 9,
   "metadata": {},
   "outputs": [
    {
     "name": "stdout",
     "output_type": "stream",
     "text": [
      "[1.41421356]\n"
     ]
    }
   ],
   "source": [
    "print(diagS)"
   ]
  },
  {
   "cell_type": "markdown",
   "metadata": {},
   "source": [
    "Q6) Are there model or data null spaces? If so, display spanning vectors of these spaces. Does this match with what was presented in the lecture?"
   ]
  },
  {
   "cell_type": "markdown",
   "metadata": {},
   "source": [
    "p=1, N=2, M=1. There is a data null space (see below, which is proportional to the vector given in the lectures) but no model null space."
   ]
  },
  {
   "cell_type": "code",
   "execution_count": 10,
   "metadata": {},
   "outputs": [
    {
     "name": "stdout",
     "output_type": "stream",
     "text": [
      "[-0.70710678  0.70710678]\n"
     ]
    }
   ],
   "source": [
    "print(U[:,1])"
   ]
  },
  {
   "cell_type": "markdown",
   "metadata": {},
   "source": [
    "# Example 3\n",
    "\n",
    "The figure below shows a 2-D seismic tomography experiment carried out in a laboratory on a piece of rock measuring 30 mm by 20 mm.  The red lines represent the paths of five seismic rays through the rock, the measured travel times for each of which is given below:\n",
    "\n",
    "<img src=\"../Figures/Prac5_fig4.png\" alt=\"drawing\" style=\"width:400px;\"/>\n",
    " \n",
    "\n",
    "| Ray number   | Time ($\\mu$s)   |\n",
    "| :------ |---------:|\n",
    "|  1  | 5.43 |\n",
    "|  2 | 3.18 |\n",
    "| 3 | 3.65 | \n",
    "| 4 | 5.50 |\n",
    "| 5 | 4.35 |\n",
    "\n",
    "In the model set-up, the rock is divided into six 10x10 mm blocks as shown, and ordered according to their number in the bottom right hand corner of each block. The goal is to determine the slowness of each the blocks (slowness is assumed constant in each block).\n",
    "\n"
   ]
  },
  {
   "cell_type": "raw",
   "metadata": {},
   "source": [
    "Q7) Setup a vector of travel times"
   ]
  },
  {
   "cell_type": "code",
   "execution_count": 11,
   "metadata": {},
   "outputs": [],
   "source": [
    "d = np.array([5.43,3.18,3.65,5.5,4.35])"
   ]
  },
  {
   "cell_type": "markdown",
   "metadata": {},
   "source": [
    "Q8) Define the matrix G for the problem: amend the following (the first row is done for you). Do not approximate any lengths (e.g. np.sqrt(200)), but use the full value."
   ]
  },
  {
   "cell_type": "markdown",
   "metadata": {},
   "source": [
    "G = np.array([ [10, 0, 10, 0, 10, 0]])"
   ]
  },
  {
   "cell_type": "code",
   "execution_count": 12,
   "metadata": {},
   "outputs": [],
   "source": [
    "G = np.array([[10,0,10,0,10,0],[10, 10, 0, 0, 0, 0],\n",
    "  [0, 0, 10, 10, 0 ,0],[0, np.sqrt(200), np.sqrt(200),0,0,0],\n",
    " [np.sqrt(200), 0, 0,  np.sqrt(200),  0, 0]] )"
   ]
  },
  {
   "cell_type": "code",
   "execution_count": 13,
   "metadata": {},
   "outputs": [
    {
     "name": "stdout",
     "output_type": "stream",
     "text": [
      "[[10.          0.         10.          0.         10.          0.        ]\n",
      " [10.         10.          0.          0.          0.          0.        ]\n",
      " [ 0.          0.         10.         10.          0.          0.        ]\n",
      " [ 0.         14.14213562 14.14213562  0.          0.          0.        ]\n",
      " [14.14213562  0.          0.         14.14213562  0.          0.        ]]\n"
     ]
    }
   ],
   "source": [
    "print(G)"
   ]
  },
  {
   "cell_type": "markdown",
   "metadata": {},
   "source": [
    "Q9) Calculate the SVD decomposition of G and display to the screen the singular values.\n",
    "How many non-zero singular values are there? Remember that computer arithmetic is not exact and so values within about $10^{-15}$ of zero should be treated as zero."
   ]
  },
  {
   "cell_type": "code",
   "execution_count": 14,
   "metadata": {},
   "outputs": [
    {
     "name": "stdout",
     "output_type": "stream",
     "text": [
      "[2.71519453e+01 2.00000000e+01 1.41421356e+01 1.27582079e+01\n",
      " 1.70125055e-15]\n"
     ]
    }
   ],
   "source": [
    "U,diagS,Vt = np.linalg.svd(G)\n",
    "V = Vt.transpose()\n",
    "print(diagS)"
   ]
  },
  {
   "cell_type": "markdown",
   "metadata": {},
   "source": [
    "There are 4 non-zero singular values."
   ]
  },
  {
   "cell_type": "markdown",
   "metadata": {},
   "source": [
    "Q10) Define Up and Vp to contain the non-null parts of U and V, and define the matrix Sp using the np.diag() command and the non-zero singular values. Remember you can choose the first n columns of a matrix y by using y[:,0:n]"
   ]
  },
  {
   "cell_type": "code",
   "execution_count": 15,
   "metadata": {},
   "outputs": [],
   "source": [
    "Up = U[:,0:4]\n",
    "Vp = V[:,0:4]\n",
    "Sp = np.diag(diagS[0:4])"
   ]
  },
  {
   "cell_type": "markdown",
   "metadata": {},
   "source": [
    "Q11) Confirm that G is equal to Up * Sp * Vp^T. To do this, calculate the matrix norm (like a vector norm, but for matrices) of the difference of the two matrices (NOT the difference of the norms), using np.linalg.norm(). A small matrix norm indicates a small matrix: i.e. if A-B has a small norm, then $A \\approx B$. "
   ]
  },
  {
   "cell_type": "code",
   "execution_count": 16,
   "metadata": {},
   "outputs": [
    {
     "data": {
      "text/plain": [
       "1.63934782807559e-14"
      ]
     },
     "execution_count": 16,
     "metadata": {},
     "output_type": "execute_result"
    }
   ],
   "source": [
    "np.linalg.norm( G - Up @ Sp @ Vp.transpose() )"
   ]
  },
  {
   "cell_type": "markdown",
   "metadata": {},
   "source": [
    "Q12) Using the matrices Up, Sp, and Vp, calculate m_hat as G_invg times $\\bf d$, where the generalised Moore-Penrose pseudoinverse G_invg needs to be evaluated. Do not use the pseudo-inverse function np.linalg.pinv().\n",
    "Display m_hat to the screen."
   ]
  },
  {
   "cell_type": "code",
   "execution_count": 17,
   "metadata": {},
   "outputs": [
    {
     "name": "stdout",
     "output_type": "stream",
     "text": [
      "[0.19017069 0.13232936 0.25432933 0.11517072 0.09849997 0.        ]\n"
     ]
    }
   ],
   "source": [
    "G_invg = Vp @ np.linalg.inv(Sp) @ Up.transpose()\n",
    "m_hat = G_invg @ d\n",
    "print(m_hat)"
   ]
  },
  {
   "cell_type": "markdown",
   "metadata": {},
   "source": [
    "Q13) Define d_hat, the model-predicted values of slowness (d_hat = G * m_hat )"
   ]
  },
  {
   "cell_type": "code",
   "execution_count": 18,
   "metadata": {},
   "outputs": [],
   "source": [
    "d_hat = G @ m_hat"
   ]
  },
  {
   "cell_type": "code",
   "execution_count": 19,
   "metadata": {},
   "outputs": [
    {
     "name": "stdout",
     "output_type": "stream",
     "text": [
      "[5.43       3.2250006  3.6950006  5.46817977 4.31817977]\n"
     ]
    }
   ],
   "source": [
    "print(d_hat)"
   ]
  },
  {
   "cell_type": "markdown",
   "metadata": {},
   "source": [
    "Q14) Plot the estimated slownesses m_hat as square blocks (as in Fig. 4). To do this:\n",
    "\n",
    "- reshape your m_hat vector into a 2 x 3 matrix.\n",
    "- use the command imshow to display, and the extent argument to specify the size.\n",
    "- add a colorbar\n"
   ]
  },
  {
   "cell_type": "code",
   "execution_count": 20,
   "metadata": {},
   "outputs": [
    {
     "data": {
      "image/png": "[encoded data removed]",
      "text/plain": [
       "<Figure size 640x480 with 2 Axes>"
      ]
     },
     "metadata": {},
     "output_type": "display_data"
    }
   ],
   "source": [
    "plt.figure()\n",
    "plt.imshow(m_hat.reshape((2,3), order='F'),extent=[0, 30, 0, 20])\n",
    "plt.colorbar();"
   ]
  },
  {
   "cell_type": "markdown",
   "metadata": {},
   "source": [
    "Q15) There is a model nullspace - but how do you know? What two vectors span this space?\n",
    "Display each of the spanning vectors as a plot similar to the above. Try to explain the physical significance of these model vectors."
   ]
  },
  {
   "cell_type": "code",
   "execution_count": 21,
   "metadata": {},
   "outputs": [
    {
     "data": {
      "image/png": "[encoded data removed]",
      "text/plain": [
       "<Figure size 640x480 with 2 Axes>"
      ]
     },
     "metadata": {},
     "output_type": "display_data"
    }
   ],
   "source": [
    "plt.figure()\n",
    "plt.imshow(V[:,4].reshape((2,3),order='F'),extent=[0, 30, 0, 20])\n",
    "plt.colorbar();"
   ]
  },
  {
   "cell_type": "code",
   "execution_count": 22,
   "metadata": {},
   "outputs": [
    {
     "data": {
      "image/png": "[encoded data removed]",
      "text/plain": [
       "<Figure size 640x480 with 2 Axes>"
      ]
     },
     "metadata": {},
     "output_type": "display_data"
    }
   ],
   "source": [
    "plt.figure()\n",
    "plt.imshow(V[:,5].reshape((2,3),order='F'),extent=[0, 30, 0, 20])\n",
    "plt.colorbar();"
   ]
  },
  {
   "cell_type": "markdown",
   "metadata": {},
   "source": [
    "Q16) Add some combination of these two vectors to m_hat, and check that this new model would recreate the same synthetic travel times as d_hat."
   ]
  },
  {
   "cell_type": "code",
   "execution_count": 23,
   "metadata": {},
   "outputs": [
    {
     "name": "stdout",
     "output_type": "stream",
     "text": [
      "[5.43       3.2250006  3.6950006  5.46817977 4.31817977]\n",
      "[5.43       3.2250006  3.6950006  5.46817977 4.31817977]\n"
     ]
    }
   ],
   "source": [
    "m_new = m_hat + 10 * V[:,4] + 50 * V[:,5]\n",
    "print( G @ m_new )\n",
    "print( G @ m_hat )"
   ]
  },
  {
   "cell_type": "markdown",
   "metadata": {},
   "source": [
    "Q17) Calculate the data residuals: d - d_hat. This is the part of the data that is not representable by the model.\n",
    "There is a data null space, but how do you know from the SVD? Which vector spans this subspace? Confirm that it is proportional to the data residual."
   ]
  },
  {
   "cell_type": "code",
   "execution_count": 24,
   "metadata": {},
   "outputs": [],
   "source": [
    "data_residual = d - d_hat"
   ]
  },
  {
   "cell_type": "code",
   "execution_count": 25,
   "metadata": {},
   "outputs": [
    {
     "name": "stdout",
     "output_type": "stream",
     "text": [
      "[-8.88178420e-16 -4.50005982e-02 -4.50005982e-02  3.18202282e-02\n",
      "  3.18202282e-02]\n"
     ]
    }
   ],
   "source": [
    "print(data_residual)\n"
   ]
  },
  {
   "cell_type": "code",
   "execution_count": 26,
   "metadata": {},
   "outputs": [
    {
     "name": "stdout",
     "output_type": "stream",
     "text": [
      "[ 1.18893304e-16  5.77350269e-01  5.77350269e-01 -4.08248290e-01\n",
      " -4.08248290e-01]\n"
     ]
    }
   ],
   "source": [
    "print( U[:,4])  # this is the data null space"
   ]
  },
  {
   "cell_type": "code",
   "execution_count": 27,
   "metadata": {},
   "outputs": [
    {
     "name": "stdout",
     "output_type": "stream",
     "text": [
      "Rescaled data null space vector : [-9.26693913e-18 -4.50005982e-02 -4.50005982e-02  3.18202282e-02\n",
      "  3.18202282e-02]\n",
      "Data difference  [-8.88178420e-16 -4.50005982e-02 -4.50005982e-02  3.18202282e-02\n",
      "  3.18202282e-02]\n"
     ]
    }
   ],
   "source": [
    "print('Rescaled data null space vector :', U[:,4]/U[1,4] * data_residual[1]) #rescale\n",
    "print('Data difference ', data_residual)"
   ]
  },
  {
   "cell_type": "code",
   "execution_count": null,
   "metadata": {},
   "outputs": [],
   "source": []
  }
 ],
 "metadata": {
  "kernelspec": {
   "display_name": "Python 3 (ipykernel)",
   "language": "python",
   "name": "python3"
  },
  "language_info": {
   "codemirror_mode": {
    "name": "ipython",
    "version": 3
   },
   "file_extension": ".py",
   "mimetype": "text/x-python",
   "name": "python",
   "nbconvert_exporter": "python",
   "pygments_lexer": "ipython3",
   "version": "3.11.9"
  }
 },
 "nbformat": 4,
 "nbformat_minor": 4
}
